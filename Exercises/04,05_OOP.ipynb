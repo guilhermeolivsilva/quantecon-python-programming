{
 "cells": [
  {
   "cell_type": "code",
   "execution_count": 3,
   "metadata": {},
   "outputs": [],
   "source": [
    "from random import uniform\n",
    "import numpy as np\n",
    "import matplotlib.pyplot as plt"
   ]
  },
  {
   "cell_type": "markdown",
   "metadata": {},
   "source": [
    "## Exercise 1"
   ]
  },
  {
   "cell_type": "code",
   "execution_count": 1,
   "metadata": {},
   "outputs": [],
   "source": [
    "class ECDF:\n",
    "    def __init__(self, samples):\n",
    "        self.observations = samples\n",
    "        \n",
    "    def __call__(self, x):\n",
    "        counter = 0\n",
    "        for element in self.observations:\n",
    "            if element <= x:\n",
    "                counter += 1\n",
    "                \n",
    "        return counter/len(self.observations)"
   ]
  },
  {
   "cell_type": "code",
   "execution_count": 4,
   "metadata": {},
   "outputs": [
    {
     "name": "stdout",
     "output_type": "stream",
     "text": [
      "90.0% of the observations are smaller than 0.8.\n",
      "Sampled values: [0.5053692601506433, 0.27903102231117993, 0.8391544071705616, 0.0160473226507315, 0.7957358333343428, 0.08719344289964426, 0.6396447979044052, 0.46686124493728964, 0.1618407557157332, 0.2940217526222485]\n"
     ]
    }
   ],
   "source": [
    "samples = [uniform(0, 1) for i in range(10)]\n",
    "evaluatedValue = 0.8\n",
    "F = ECDF(samples)\n",
    "\n",
    "print(f'{100 * F(evaluatedValue)}% of the observations are smaller than {evaluatedValue}.')\n",
    "print(f'Sampled values: {samples}')"
   ]
  },
  {
   "cell_type": "markdown",
   "metadata": {},
   "source": [
    "## Exercise 2\n"
   ]
  },
  {
   "cell_type": "code",
   "execution_count": 33,
   "metadata": {},
   "outputs": [],
   "source": [
    "class Polynomial:\n",
    "    def __init__(self, coefficients):\n",
    "        self.coeffs = coefficients\n",
    "        self.derivative = []\n",
    "        \n",
    "    def evaluate(self, x):\n",
    "        p = 0\n",
    "        for index, coeff in enumerate(self.coeffs):\n",
    "            p += coeff * (x**index)\n",
    "            \n",
    "        return p\n",
    "    \n",
    "    def differentiate(self):\n",
    "        for index, coeff in enumerate(self.coeffs):    \n",
    "            if(index != 0):\n",
    "                self.derivative.append(index * coeff)\n",
    "            \n",
    "        return self.derivative"
   ]
  },
  {
   "cell_type": "code",
   "execution_count": 34,
   "metadata": {},
   "outputs": [
    {
     "name": "stdout",
     "output_type": "stream",
     "text": [
      "23\n",
      "[3, 8]\n"
     ]
    }
   ],
   "source": [
    "test = Polynomial((1, 3, 4))\n",
    "\n",
    "print(test.evaluate(2))\n",
    "print(test.differentiate())"
   ]
  }
 ],
 "metadata": {
  "kernelspec": {
   "display_name": "Python 3",
   "language": "python",
   "name": "python3"
  },
  "language_info": {
   "codemirror_mode": {
    "name": "ipython",
    "version": 3
   },
   "file_extension": ".py",
   "mimetype": "text/x-python",
   "name": "python",
   "nbconvert_exporter": "python",
   "pygments_lexer": "ipython3",
   "version": "3.7.6"
  }
 },
 "nbformat": 4,
 "nbformat_minor": 4
}
