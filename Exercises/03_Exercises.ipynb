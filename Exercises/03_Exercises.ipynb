{
 "cells": [
  {
   "cell_type": "markdown",
   "metadata": {},
   "source": [
    "## Exercise 1"
   ]
  },
  {
   "cell_type": "code",
   "execution_count": 1,
   "metadata": {},
   "outputs": [
    {
     "name": "stdout",
     "output_type": "stream",
     "text": [
      "Inner product for (1, 2), (3, 4): 11\n",
      "Inner product for (1, 2, 3), (4, 5, 6): 32\n"
     ]
    }
   ],
   "source": [
    "def exercise1Part1(x_vals, y_vals):\n",
    "    zipList = zip(x_vals, y_vals)\n",
    "    return(sum(x * y for x, y in zipList))\n",
    "        \n",
    "print(f'Inner product for (1, 2), (3, 4): {exercise1Part1((1, 2), (3, 4))}')\n",
    "print(f'Inner product for (1, 2, 3), (4, 5, 6): {exercise1Part1((1, 2, 3), (4, 5, 6))}')"
   ]
  },
  {
   "cell_type": "code",
   "execution_count": 2,
   "metadata": {},
   "outputs": [
    {
     "name": "stdout",
     "output_type": "stream",
     "text": [
      "There are 50 even numbers in the 0-99 interval.\n"
     ]
    }
   ],
   "source": [
    "def exercise1Part2():\n",
    "    return(sum([x % 2 == 0 for x in range(100)]))\n",
    "\n",
    "print(f'There are {exercise1Part2()} even numbers in the 0-99 interval.')"
   ]
  },
  {
   "cell_type": "code",
   "execution_count": 3,
   "metadata": {},
   "outputs": [
    {
     "data": {
      "text/plain": [
       "3"
      ]
     },
     "execution_count": 3,
     "metadata": {},
     "output_type": "execute_result"
    }
   ],
   "source": [
    "def exercise1Part3(pairs):\n",
    "    counter = 0\n",
    "    for x, y in pairs:\n",
    "        if(x % 2 == 0 and y % 2 == 0):\n",
    "            counter += 1\n",
    "    return counter\n",
    "\n",
    "exercise1Part3(((2, 5), (4, 2), (9, 8), (12, 10), (2, 2)))"
   ]
  },
  {
   "cell_type": "markdown",
   "metadata": {},
   "source": [
    "## Exercise 2"
   ]
  },
  {
   "cell_type": "code",
   "execution_count": 6,
   "metadata": {},
   "outputs": [
    {
     "data": {
      "text/plain": [
       "5"
      ]
     },
     "execution_count": 6,
     "metadata": {},
     "output_type": "execute_result"
    }
   ],
   "source": [
    "def exercise2(x, coeff):\n",
    "    return(sum(a * (x**index) for index, a in enumerate(coeff)))\n",
    "\n",
    "exercise2(2, (1, 2))"
   ]
  },
  {
   "cell_type": "markdown",
   "metadata": {},
   "source": [
    "## Exercise 3"
   ]
  },
  {
   "cell_type": "code",
   "execution_count": 15,
   "metadata": {},
   "outputs": [
    {
     "data": {
      "text/plain": [
       "2"
      ]
     },
     "execution_count": 15,
     "metadata": {},
     "output_type": "execute_result"
    }
   ],
   "source": [
    "def exercise3(string):\n",
    "    counter = 0\n",
    "    for character in string:\n",
    "        if(character in string.upper()):\n",
    "            counter += 1\n",
    "    return counter\n",
    "\n",
    "exercise3('TesT')"
   ]
  },
  {
   "cell_type": "markdown",
   "metadata": {},
   "source": [
    "## Exercise 4"
   ]
  },
  {
   "cell_type": "code",
   "execution_count": 29,
   "metadata": {},
   "outputs": [
    {
     "name": "stdout",
     "output_type": "stream",
     "text": [
      "Test with tuple: False\n",
      "Test with list: True\n",
      "Test with string: True\n"
     ]
    }
   ],
   "source": [
    "def exercise4(seq_a, seq_b):\n",
    "    for element in seq_a:\n",
    "        if(element not in seq_b):\n",
    "            return False\n",
    "    return True\n",
    "\n",
    "print(f'Test with tuple: {exercise4((1, 2, 4), (1, 2, 3, 5))}')\n",
    "print(f'Test with list: {exercise4([1, 2, 4], [1, 2, 3, 4, 5])}')\n",
    "print(f'Test with string: {exercise4(\"1 2 4\", \"1 2 3 4 5\")}')"
   ]
  },
  {
   "cell_type": "markdown",
   "metadata": {},
   "source": [
    "## Exercise 6"
   ]
  },
  {
   "cell_type": "code",
   "execution_count": 33,
   "metadata": {},
   "outputs": [
    {
     "name": "stdout",
     "output_type": "stream",
     "text": [
      "[-0.36656239532733853, -0.2615297789147461, -0.08400518508954428, 0.797000894578682, -0.43721164626061304]\n"
     ]
    }
   ],
   "source": [
    "import numpy as np\n",
    "\n",
    "def exercise6(n):\n",
    "    return([np.random.randn() for index in range(n)])\n",
    "\n",
    "print(exercise6(5))"
   ]
  }
 ],
 "metadata": {
  "kernelspec": {
   "display_name": "Python 3",
   "language": "python",
   "name": "python3"
  },
  "language_info": {
   "codemirror_mode": {
    "name": "ipython",
    "version": 3
   },
   "file_extension": ".py",
   "mimetype": "text/x-python",
   "name": "python",
   "nbconvert_exporter": "python",
   "pygments_lexer": "ipython3",
   "version": "3.7.6"
  }
 },
 "nbformat": 4,
 "nbformat_minor": 4
}
