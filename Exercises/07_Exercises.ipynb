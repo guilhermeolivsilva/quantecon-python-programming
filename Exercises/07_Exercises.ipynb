{
 "cells": [
  {
   "cell_type": "code",
   "execution_count": 2,
   "metadata": {},
   "outputs": [],
   "source": [
    "import numpy as np"
   ]
  },
  {
   "cell_type": "markdown",
   "metadata": {},
   "source": [
    "## Exercise 1"
   ]
  },
  {
   "cell_type": "code",
   "execution_count": 7,
   "metadata": {},
   "outputs": [
    {
     "name": "stdout",
     "output_type": "stream",
     "text": [
      "[2. 3. 4.]\n",
      "24.0\n"
     ]
    }
   ],
   "source": [
    "def p(x, coeff):\n",
    "    auxArray = np.ones_like(coeff)\n",
    "    auxArray[1:] = x\n",
    "    return coeff @ np.cumprod(auxArray)\n",
    "\n",
    "x = 2\n",
    "coef = np.linspace(2, 4, 3)\n",
    "print(coef)\n",
    "print(p(x, coef))"
   ]
  },
  {
   "cell_type": "markdown",
   "metadata": {},
   "source": [
    "## Exercise 2"
   ]
  },
  {
   "cell_type": "code",
   "execution_count": 10,
   "metadata": {},
   "outputs": [],
   "source": [
    "class Exercise2:\n",
    "\n",
    "    def __init__(self, q):\n",
    "        self.q = q\n",
    "        self.Q = np.cumsum(q)\n",
    "\n",
    "    def drawValue(self, k):\n",
    "        return self.Q.searchsorted(np.random.uniform(0, 1, size=k))"
   ]
  },
  {
   "cell_type": "markdown",
   "metadata": {},
   "source": [
    "## Exercise 3"
   ]
  },
  {
   "cell_type": "code",
   "execution_count": 11,
   "metadata": {},
   "outputs": [],
   "source": [
    "class ECDF:\n",
    "    def __init__(self, samples):\n",
    "        self.observations = np.asarray(samples)\n",
    "    \n",
    "    def __call__(self, x):\n",
    "        return np.mean(self.observations <= x)"
   ]
  }
 ],
 "metadata": {
  "kernelspec": {
   "display_name": "Python 3",
   "language": "python",
   "name": "python3"
  },
  "language_info": {
   "codemirror_mode": {
    "name": "ipython",
    "version": 3
   },
   "file_extension": ".py",
   "mimetype": "text/x-python",
   "name": "python",
   "nbconvert_exporter": "python",
   "pygments_lexer": "ipython3",
   "version": "3.7.6"
  }
 },
 "nbformat": 4,
 "nbformat_minor": 4
}
