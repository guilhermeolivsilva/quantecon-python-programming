{
 "cells": [
  {
   "cell_type": "code",
   "execution_count": 1,
   "metadata": {},
   "outputs": [],
   "source": [
    "import numpy as np\n",
    "import matplotlib.pyplot as plt"
   ]
  },
  {
   "cell_type": "markdown",
   "metadata": {},
   "source": [
    "## Exercise 1"
   ]
  },
  {
   "cell_type": "code",
   "execution_count": 6,
   "metadata": {},
   "outputs": [
    {
     "data": {
      "text/plain": [
       "120"
      ]
     },
     "execution_count": 6,
     "metadata": {},
     "output_type": "execute_result"
    }
   ],
   "source": [
    "def factorial(n):\n",
    "    fac = 1\n",
    "    \n",
    "    if(n == 0 or n == 1):\n",
    "        return fac\n",
    "    \n",
    "    for i in range(n):\n",
    "        fac = fac * (i + 1)\n",
    "        \n",
    "    return fac\n",
    "\n",
    "factorial(5)"
   ]
  },
  {
   "cell_type": "markdown",
   "metadata": {},
   "source": [
    "## Exercise 2"
   ]
  },
  {
   "cell_type": "code",
   "execution_count": 11,
   "metadata": {},
   "outputs": [
    {
     "data": {
      "text/plain": [
       "8"
      ]
     },
     "execution_count": 11,
     "metadata": {},
     "output_type": "execute_result"
    }
   ],
   "source": [
    "def binomial_rv(n, p):\n",
    "    count = 0\n",
    "    for i in range(n):\n",
    "        successProbThisTry = np.random.uniform()\n",
    "        if successProbThisTry < p:\n",
    "            count = count + 1    # Or count += 1\n",
    "    return count\n",
    "\n",
    "binomial_rv(10, 0.5)"
   ]
  },
  {
   "cell_type": "markdown",
   "metadata": {},
   "source": [
    "## Exercise 3"
   ]
  },
  {
   "cell_type": "code",
   "execution_count": 99,
   "metadata": {},
   "outputs": [
    {
     "data": {
      "text/plain": [
       "0"
      ]
     },
     "execution_count": 99,
     "metadata": {},
     "output_type": "execute_result"
    }
   ],
   "source": [
    "def random_device(k):\n",
    "    counter = 0\n",
    "    pays = 0\n",
    "    \n",
    "    for i in range(10):\n",
    "        currentTry = np.random.uniform()\n",
    "        if(currentTry > 0.5):             # Breaks the sequence of failures\n",
    "            counter = 0\n",
    "        else:\n",
    "            counter = counter + 1\n",
    "        if counter == k:\n",
    "            pays = 1\n",
    "    \n",
    "    return pays\n",
    "    \n",
    "random_device(6)"
   ]
  },
  {
   "cell_type": "code",
   "execution_count": 135,
   "metadata": {},
   "outputs": [
    {
     "data": {
      "text/plain": [
       "1"
      ]
     },
     "execution_count": 135,
     "metadata": {},
     "output_type": "execute_result"
    }
   ],
   "source": [
    "def random_device_2(k):\n",
    "    counter = 0\n",
    "    pays = 0\n",
    "    \n",
    "    for i in range(10):\n",
    "        currentTry = np.random.uniform()\n",
    "        if(currentTry < 0.5):             \n",
    "            counter = counter + 1\n",
    "        if counter == k:\n",
    "            pays = 1\n",
    "    \n",
    "    return pays\n",
    "    \n",
    "random_device(3)"
   ]
  }
 ],
 "metadata": {
  "kernelspec": {
   "display_name": "Python 3",
   "language": "python",
   "name": "python3"
  },
  "language_info": {
   "codemirror_mode": {
    "name": "ipython",
    "version": 3
   },
   "file_extension": ".py",
   "mimetype": "text/x-python",
   "name": "python",
   "nbconvert_exporter": "python",
   "pygments_lexer": "ipython3",
   "version": "3.7.6"
  }
 },
 "nbformat": 4,
 "nbformat_minor": 4
}
