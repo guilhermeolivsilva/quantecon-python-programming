{
 "cells": [
  {
   "cell_type": "markdown",
   "metadata": {},
   "source": [
    "## Data Types"
   ]
  },
  {
   "cell_type": "code",
   "execution_count": 12,
   "metadata": {},
   "outputs": [
    {
     "name": "stdout",
     "output_type": "stream",
     "text": [
      "x + y: 1\n",
      "x * y: 0\n",
      "5 + y: 5\n",
      "x + 5: 6\n"
     ]
    }
   ],
   "source": [
    "x, y = True, False\n",
    "\n",
    "# Boolean arithmetic\n",
    "print(f'x + y: {str(x + y)}')\n",
    "print(f'x * y: {str(x * y)}')\n",
    "print(f'5 + y: {str(5 + y)}')\n",
    "print(f'x + 5: {str(x + 5)}')"
   ]
  },
  {
   "cell_type": "code",
   "execution_count": 17,
   "metadata": {},
   "outputs": [
    {
     "name": "stdout",
     "output_type": "stream",
     "text": [
      "Tuples are immutable\n"
     ]
    }
   ],
   "source": [
    "x = ('a', 'b')\n",
    "\n",
    "try:\n",
    "    x[0] = 5\n",
    "except TypeError:\n",
    "    print('Tuples are immutable')"
   ]
  },
  {
   "cell_type": "code",
   "execution_count": 27,
   "metadata": {},
   "outputs": [
    {
     "name": "stdout",
     "output_type": "stream",
     "text": [
      "Indexes 1 through 5: [1, 2, 3, 4]\n",
      "Indexes 1 through 20 (20 is out of bounds): [1, 2, 3, 4, 5, 6, 7, 8, 9]\n",
      "Selecting the *last* 3 elements from the list: [7, 8, 9]\n"
     ]
    }
   ],
   "source": [
    "myList = [0, 1, 2, 3, 4, 5, 6, 7, 8, 9]\n",
    "\n",
    "# Slicing a list\n",
    "print(f'Indexes 1 through 5: {myList[1:5]}')\n",
    "print(f'Indexes 1 through 20 (20 is out of bounds): {myList[1:20]}')\n",
    "\n",
    "n = 3\n",
    "print(f'Selecting the *last* {n} elements from the list: {myList[-n:]}')"
   ]
  },
  {
   "cell_type": "code",
   "execution_count": 31,
   "metadata": {},
   "outputs": [
    {
     "name": "stdout",
     "output_type": "stream",
     "text": [
      "name: Guilherme\n",
      "city: Belo Horizonte\n",
      "age: 23\n"
     ]
    }
   ],
   "source": [
    "myDict = {\n",
    "    'name': 'Guilherme',\n",
    "    'city': 'Belo Horizonte',\n",
    "    'age': 23\n",
    "}\n",
    "\n",
    "# Iterates through the dict, and prints each key, value pair\n",
    "for key, value in myDict.items():\n",
    "    print(f'{key}: {value}')"
   ]
  },
  {
   "cell_type": "code",
   "execution_count": 44,
   "metadata": {},
   "outputs": [
    {
     "name": "stdout",
     "output_type": "stream",
     "text": [
      "{1, 2, 3, 4, 5}\n",
      "{2, 3}\n",
      "Is B a subset of A? True\n",
      "Intersection: {2, 3}\n"
     ]
    }
   ],
   "source": [
    "setA = {1, 2, 3, 4, 5, 1}\n",
    "setB = set((range(2,4)))\n",
    "\n",
    "print(setA) # The set only contains unique values\n",
    "print(setB) # setB is created from a sequence\n",
    "\n",
    "# Methods for sets\n",
    "print(f'Is B a subset of A? {setB.issubset(setA)}')\n",
    "print(f'Intersection: {setB.intersection(setA)}')"
   ]
  },
  {
   "cell_type": "markdown",
   "metadata": {},
   "source": [
    "## Input and Output"
   ]
  },
  {
   "cell_type": "code",
   "execution_count": 47,
   "metadata": {},
   "outputs": [
    {
     "name": "stdout",
     "output_type": "stream",
     "text": [
      "Testing\n",
      "Testing again\n"
     ]
    }
   ],
   "source": [
    "f = open('newfile.txt', 'w')   # newfile.txt is created at the current working directory (%pwd)\n",
    "f.write('Testing\\n')\n",
    "f.write('Testing again')\n",
    "f.close()\n",
    "\n",
    "f = open('newfile.txt', 'r')\n",
    "print(f.read())\n",
    "f.close()"
   ]
  },
  {
   "cell_type": "markdown",
   "metadata": {},
   "source": [
    "## Iterating"
   ]
  },
  {
   "cell_type": "code",
   "execution_count": 51,
   "metadata": {},
   "outputs": [
    {
     "name": "stdout",
     "output_type": "stream",
     "text": [
      "New York       8,244,910\n",
      "Los Angeles    3,819,702\n",
      "Chicago        2,707,120\n",
      "Houston        2,145,146\n",
      "Philadelphia   1,536,471\n",
      "Phoenix        1,469,471\n",
      "San Antonio    1,359,758\n",
      "San Diego      1,326,179\n",
      "Dallas         1,223,229\n"
     ]
    }
   ],
   "source": [
    "data_file = open('newfile.txt', 'r')\n",
    "for line in data_file:\n",
    "    city, population = line.split(':')         # Tuple unpacking\n",
    "    city = city.title()                        # Capitalize city names\n",
    "    population = f'{int(population):,}'        # Add commas to numbers\n",
    "    print(city.ljust(15) + population)         # ljust(15) tabulates the output with up to 15 \" \" (spaces)\n",
    "data_file.close()"
   ]
  },
  {
   "cell_type": "code",
   "execution_count": 59,
   "metadata": {},
   "outputs": [
    {
     "name": "stdout",
     "output_type": "stream",
     "text": [
      "{'Tom': 'E', 'John': 'F'}\n",
      "{'Tom': 'E', 'John': 'F'}\n",
      "'names' at pos. [0]: Tom\n",
      "'names' at pos. [1]: John\n",
      "'names' at pos. [2]: Paul\n"
     ]
    }
   ],
   "source": [
    "names = ['Tom', 'John']\n",
    "marks = ['E', 'F']\n",
    "print(dict(zip(names, marks)))\n",
    "\n",
    "names = ['Tom', 'John', 'Paul']\n",
    "print(dict(zip(names, marks)))     # 'Paul' will be ignored, as it doesn't have a corresponding mark\n",
    "\n",
    "for index, element in enumerate(names):\n",
    "    print(f'\\'names\\' at pos. [{index}]: {element}')"
   ]
  },
  {
   "cell_type": "markdown",
   "metadata": {},
   "source": [
    "## Comparisons and Logical Operators"
   ]
  },
  {
   "cell_type": "code",
   "execution_count": 70,
   "metadata": {},
   "outputs": [
    {
     "name": "stdout",
     "output_type": "stream",
     "text": [
      "True\n",
      "True\n",
      "False\n",
      "True\n"
     ]
    }
   ],
   "source": [
    "x, y, z = 1, 2, 3\n",
    "\n",
    "# Chaining/combining comparisons\n",
    "print(x < y < z)\n",
    "print(x < y or x > z)\n",
    "\n",
    "# The 'not' statement: 'not', !\n",
    "print(not(x < y))\n",
    "print(x != y)"
   ]
  },
  {
   "cell_type": "markdown",
   "metadata": {},
   "source": [
    "## More functions"
   ]
  },
  {
   "cell_type": "code",
   "execution_count": 79,
   "metadata": {},
   "outputs": [
    {
     "data": {
      "text/plain": [
       "\u001b[1;31mSignature:\u001b[0m \u001b[0mdoubledWithDocstrings\u001b[0m\u001b[1;33m(\u001b[0m\u001b[0marg\u001b[0m\u001b[1;33m)\u001b[0m\u001b[1;33m\u001b[0m\u001b[1;33m\u001b[0m\u001b[0m\n",
       "\u001b[1;31mSource:\u001b[0m   \n",
       "\u001b[1;32mdef\u001b[0m \u001b[0mdoubledWithDocstrings\u001b[0m\u001b[1;33m(\u001b[0m\u001b[0marg\u001b[0m\u001b[1;33m)\u001b[0m\u001b[1;33m:\u001b[0m\u001b[1;33m\n",
       "\u001b[0m    \u001b[1;34m\"\"\"\n",
       "    This function returns the double of the given argument\n",
       "    \"\"\"\u001b[0m\u001b[1;33m\n",
       "\u001b[0m    \u001b[1;32mreturn\u001b[0m \u001b[1;33m(\u001b[0m\u001b[0marg\u001b[0m \u001b[1;33m*\u001b[0m \u001b[1;36m2\u001b[0m\u001b[1;33m)\u001b[0m\u001b[1;33m\u001b[0m\u001b[1;33m\u001b[0m\u001b[0m\n",
       "\u001b[1;31mFile:\u001b[0m      d:\\projetos\\quantecon-python-programming\\lectures\\<ipython-input-79-5b1ab419a024>\n",
       "\u001b[1;31mType:\u001b[0m      function\n"
      ]
     },
     "metadata": {},
     "output_type": "display_data"
    },
    {
     "name": "stdout",
     "output_type": "stream",
     "text": [
      "10\n"
     ]
    }
   ],
   "source": [
    "def doubledWithDocstrings(arg):\n",
    "    \"\"\"\n",
    "    This function returns the double of the given argument\n",
    "    \"\"\"\n",
    "    return (arg * 2)\n",
    "\n",
    "# The Docstring is available from the <function>? or <function>?? calls\n",
    "doubledWithDocstrings?\n",
    "doubledWithDocstrings??"
   ]
  },
  {
   "cell_type": "code",
   "execution_count": 80,
   "metadata": {},
   "outputs": [
    {
     "name": "stdout",
     "output_type": "stream",
     "text": [
      "regularFunction(2) output: 4\n",
      "lambdaFunction(2) output: 4\n"
     ]
    }
   ],
   "source": [
    "# A lambda function is a one line function,\n",
    "# and it can be declared 'anonimously' by not giving it a name\n",
    "\n",
    "def regularFunction(x):\n",
    "    return x**2\n",
    "lambdaFunction = lambda x: x**2\n",
    "\n",
    "# regularFunction and lambdaFunction are equivalents\n",
    "print(f'regularFunction(2) output: {regularFunction(2)}')\n",
    "print(f'lambdaFunction(2) output: {lambdaFunction(2)}')"
   ]
  }
 ],
 "metadata": {
  "kernelspec": {
   "display_name": "Python 3",
   "language": "python",
   "name": "python3"
  },
  "language_info": {
   "codemirror_mode": {
    "name": "ipython",
    "version": 3
   },
   "file_extension": ".py",
   "mimetype": "text/x-python",
   "name": "python",
   "nbconvert_exporter": "python",
   "pygments_lexer": "ipython3",
   "version": "3.7.6"
  }
 },
 "nbformat": 4,
 "nbformat_minor": 4
}
