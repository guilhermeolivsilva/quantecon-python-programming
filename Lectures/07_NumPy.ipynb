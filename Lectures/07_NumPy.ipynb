{
 "cells": [
  {
   "cell_type": "markdown",
   "metadata": {},
   "source": [
    "# NumPy"
   ]
  },
  {
   "cell_type": "code",
   "execution_count": 2,
   "metadata": {},
   "outputs": [],
   "source": [
    "import numpy as np"
   ]
  },
  {
   "cell_type": "markdown",
   "metadata": {},
   "source": [
    "## NumPy arrays"
   ]
  },
  {
   "cell_type": "code",
   "execution_count": 7,
   "metadata": {},
   "outputs": [
    {
     "name": "stdout",
     "output_type": "stream",
     "text": [
      "[0. 0. 0.]\n",
      "<class 'numpy.ndarray'>\n",
      "[1 2 3]\n",
      "<class 'numpy.ndarray'>\n"
     ]
    }
   ],
   "source": [
    "a = np.zeros(3)\n",
    "print(a)\n",
    "print(type(a))\n",
    "\n",
    "b = np.array([1, 2, 3])\n",
    "print(b)\n",
    "print(type(b))"
   ]
  },
  {
   "cell_type": "markdown",
   "metadata": {},
   "source": [
    "A numpy array may only contain homogeneous (i.e. all elements are of the same type) data from any of the dtypes it provides; the most important data types are float64, int64 and bool."
   ]
  },
  {
   "cell_type": "code",
   "execution_count": 11,
   "metadata": {},
   "outputs": [
    {
     "name": "stdout",
     "output_type": "stream",
     "text": [
      "[1 2 3]\n",
      "[ True False  True]\n"
     ]
    }
   ],
   "source": [
    "# The following array is not homogeneous, so it implicitly typecasts True to 1\n",
    "c = np.array([True, 2, 3])\n",
    "print(c)\n",
    "\n",
    "c_1 = np.array([True, False, True])\n",
    "print(c_1)"
   ]
  },
  {
   "cell_type": "code",
   "execution_count": 13,
   "metadata": {},
   "outputs": [
    {
     "name": "stdout",
     "output_type": "stream",
     "text": [
      "<class 'numpy.float64'>\n",
      "<class 'numpy.int32'>\n"
     ]
    }
   ],
   "source": [
    "# We can explicitly determine the dtype employed. Notice that float64 is the default type.\n",
    "d = np.zeros(3)\n",
    "print(type(d[0]))\n",
    "\n",
    "d_1 = np.zeros(3, dtype = int)\n",
    "print(type(d_1[0]))"
   ]
  },
  {
   "cell_type": "markdown",
   "metadata": {},
   "source": [
    "### Shape and dimension"
   ]
  },
  {
   "cell_type": "code",
   "execution_count": 18,
   "metadata": {},
   "outputs": [
    {
     "name": "stdout",
     "output_type": "stream",
     "text": [
      "(10,)\n",
      "(10, 1)\n",
      "[[0.]\n",
      " [0.]\n",
      " [0.]\n",
      " [0.]\n",
      " [0.]\n",
      " [0.]\n",
      " [0.]\n",
      " [0.]\n",
      " [0.]\n",
      " [0.]]\n",
      "(5, 2)\n",
      "[[0. 0.]\n",
      " [0. 0.]\n",
      " [0. 0.]\n",
      " [0. 0.]\n",
      " [0. 0.]]\n"
     ]
    }
   ],
   "source": [
    "z = np.zeros(10)\n",
    "print(z.shape)        # z has no dimensions\n",
    "\n",
    "z.shape = (10, 1)     # z is reshaped to a single dimensioned array\n",
    "print(z.shape)\n",
    "print(z)\n",
    "\n",
    "z.shape = (5, 2)     # z is reshaped to bidimensional, 5x2 array\n",
    "print(z.shape)\n",
    "print(z)"
   ]
  },
  {
   "cell_type": "markdown",
   "metadata": {},
   "source": [
    "### Creating arrays"
   ]
  },
  {
   "cell_type": "code",
   "execution_count": 28,
   "metadata": {},
   "outputs": [
    {
     "name": "stdout",
     "output_type": "stream",
     "text": [
      "emptyArray:\n",
      "[0. 0. 0.]\n",
      "\n",
      "linear space from 2 to 4, with 5 elements:\n",
      "[2.  2.5 3.  3.5 4. ]\n",
      "\n",
      "2x2 identity matrix:\n",
      "[[1. 0.]\n",
      " [0. 1.]]\n",
      "\n",
      "creating an nparray from native Python lists:\n",
      "[[1. 2.]\n",
      " [3. 4.]]\n"
     ]
    }
   ],
   "source": [
    "emptyArray = np.empty(3)\n",
    "print(f'emptyArray:\\n{emptyArray}')\n",
    "\n",
    "linearSpace = np.linspace(2, 4, 5)\n",
    "print(f'\\nlinear space from 2 to 4, with 5 elements:\\n{linearSpace}')\n",
    "\n",
    "identity = np.identity(2)\n",
    "print(f'\\n2x2 identity matrix:\\n{identity}')\n",
    "\n",
    "list1 = [1, 2]\n",
    "list2 = [3, 4]\n",
    "nparrayFromList = np.array([list1, list2], dtype=float)\n",
    "print(f'\\ncreating an nparray from native Python lists:\\n{nparrayFromList}')"
   ]
  },
  {
   "cell_type": "markdown",
   "metadata": {},
   "source": [
    "### Array indexing"
   ]
  },
  {
   "cell_type": "code",
   "execution_count": 34,
   "metadata": {},
   "outputs": [
    {
     "name": "stdout",
     "output_type": "stream",
     "text": [
      "printing 2 elements, starting at element #0:\n",
      "[2.  2.5]\n",
      "iterating through a matrix\n",
      "\n",
      "printing an entire row: [1. 2.]\n",
      "\n",
      "printing an entire column: [1. 3.]\n"
     ]
    }
   ],
   "source": [
    "print(f'printing 2 elements, starting at element #0:\\n{linearSpace[0:2]}')\n",
    "\n",
    "print('iterating through a matrix')\n",
    "print(f'\\nprinting an entire row: {nparrayFromList[0, :]}')\n",
    "print(f'\\nprinting an entire column: {nparrayFromList[:, 0]}')"
   ]
  },
  {
   "cell_type": "markdown",
   "metadata": {},
   "source": [
    "### Array methods"
   ]
  },
  {
   "cell_type": "code",
   "execution_count": 49,
   "metadata": {},
   "outputs": [
    {
     "name": "stdout",
     "output_type": "stream",
     "text": [
      "sorted array: [1 2 3 4]\n",
      "\n",
      "the maximal value of a: 4\n",
      "the index of the maximal value of a: 3\n",
      "\n",
      "sum of all elements: 10\n",
      "the cumulative sum of elements: [ 1  3  6 10]\n",
      "the cumulative product of elements: [ 1  2  6 24]\n",
      "\n",
      "mean of a: 2.5\n",
      "the variance: 1.25\n",
      "the standard deviation: 1.118033988749895\n",
      "\n",
      "the transposed matrix:\n",
      "[[1 3]\n",
      " [2 4]]\n"
     ]
    }
   ],
   "source": [
    "a = np.array((4, 3, 1, 2))\n",
    "\n",
    "a.sort()\n",
    "print(f'sorted array: {a}')\n",
    "\n",
    "print(f'\\nthe maximal value of a: {a.max()}')\n",
    "print(f'the index of the maximal value of a: {a.argmax()}')\n",
    "\n",
    "print(f'\\nsum of all elements: {a.sum()}')\n",
    "print(f'the cumulative sum of elements: {a.cumsum()}')\n",
    "print(f'the cumulative product of elements: {a.cumprod()}')\n",
    "\n",
    "print(f'\\nmean of a: {a.mean()}')\n",
    "print(f'the variance: {a.var()}')\n",
    "print(f'the standard deviation: {a.std()}')\n",
    "\n",
    "# Reshapes the array to a 2x2 matrix, then transposes it\n",
    "a.shape = (2, 2)\n",
    "print(f'\\nthe transposed matrix:\\n{a.T}') # a.T is equivalent to a.transpose()"
   ]
  },
  {
   "cell_type": "markdown",
   "metadata": {},
   "source": [
    "## Operations on arrays"
   ]
  },
  {
   "cell_type": "markdown",
   "metadata": {},
   "source": [
    "### Arithmetic operations"
   ]
  },
  {
   "cell_type": "code",
   "execution_count": 60,
   "metadata": {},
   "outputs": [
    {
     "name": "stdout",
     "output_type": "stream",
     "text": [
      "a + b: [ 6  8 10 12]\n",
      "a * b (multiplies element by element): [ 5 12 21 32]\n",
      "adding a scalar: [11 12 13 14]\n",
      "multiplying by a scalar: [10 20 30 40]\n"
     ]
    }
   ],
   "source": [
    "a = np.array([1, 2, 3, 4])\n",
    "b = np.array([5, 6, 7, 8])\n",
    "\n",
    "print(f'a + b: {a + b}')\n",
    "print(f'a * b (multiplies element by element): {a * b}')\n",
    "print(f'adding a scalar: {a + 10}')\n",
    "print(f'multiplying by a scalar: {a * 10}')"
   ]
  },
  {
   "cell_type": "markdown",
   "metadata": {},
   "source": [
    "### Matrix multiplication"
   ]
  },
  {
   "cell_type": "code",
   "execution_count": 64,
   "metadata": {},
   "outputs": [
    {
     "name": "stdout",
     "output_type": "stream",
     "text": [
      "the matricial product of a x b: 70\n",
      "the matricial product of a x b (a, b have been reshaped to matrixes):\n",
      "[[19 22]\n",
      " [43 50]]\n"
     ]
    }
   ],
   "source": [
    "a = np.array([1, 2, 3, 4])\n",
    "b = np.array([5, 6, 7, 8])\n",
    "print(f'the matricial product of a x b: {a @ b}')\n",
    "\n",
    "a.shape = (2, 2)\n",
    "b.shape = (2, 2)\n",
    "print(f'the matricial product of a x b (a, b have been reshaped to matrixes):\\n{a @ b}')"
   ]
  },
  {
   "cell_type": "markdown",
   "metadata": {},
   "source": [
    "### Mutability and copying arrays"
   ]
  },
  {
   "cell_type": "code",
   "execution_count": 67,
   "metadata": {},
   "outputs": [
    {
     "name": "stdout",
     "output_type": "stream",
     "text": [
      "[42 44 22]\n",
      "[42 44  5]\n"
     ]
    }
   ],
   "source": [
    "a = np.array([42, 44, 22])\n",
    "print(a)\n",
    "\n",
    "a[-1] = 5\n",
    "print(a)"
   ]
  },
  {
   "cell_type": "code",
   "execution_count": 68,
   "metadata": {},
   "outputs": [
    {
     "name": "stdout",
     "output_type": "stream",
     "text": [
      "[ 1.62947807  2.15844191 -0.91758688]\n",
      "b: [1.62947807 2.15844191 3.        ]\n",
      "a: [1.62947807 2.15844191 3.        ]\n"
     ]
    }
   ],
   "source": [
    "a = np.random.randn(3)\n",
    "print(a)\n",
    "\n",
    "b = a\n",
    "b[-1] = 3\n",
    "\n",
    "print(f'b: {b}')\n",
    "print(f'a: {a}')\n",
    "\n",
    "# b mutates a, as 'b = a' causes b to point to the same memory region as a."
   ]
  },
  {
   "cell_type": "code",
   "execution_count": 70,
   "metadata": {},
   "outputs": [
    {
     "name": "stdout",
     "output_type": "stream",
     "text": [
      "[-0.02115381 -0.36456222  1.60361544]\n",
      "b: [-0.02115381 -0.36456222  3.        ]\n",
      "a: [-0.02115381 -0.36456222  1.60361544]\n"
     ]
    }
   ],
   "source": [
    "a = np.random.randn(3)\n",
    "print(a)\n",
    "\n",
    "b = np.copy(a)\n",
    "b[-1] = 3\n",
    "\n",
    "print(f'b: {b}')\n",
    "print(f'a: {a}')\n",
    "\n",
    "# np.copy(a) creates a copy of the original array, making a and b independent from one another\n",
    "# any changes made to b will only be applied to b"
   ]
  },
  {
   "cell_type": "markdown",
   "metadata": {},
   "source": [
    "## Additional functionality"
   ]
  },
  {
   "cell_type": "markdown",
   "metadata": {},
   "source": [
    "### Vectorized functions"
   ]
  },
  {
   "cell_type": "code",
   "execution_count": 84,
   "metadata": {},
   "outputs": [
    {
     "name": "stdout",
     "output_type": "stream",
     "text": [
      "applying sine to the entire array ...\n",
      "Wall time: 45 ms\n"
     ]
    }
   ],
   "source": [
    "%%time\n",
    "z = np.random.randn(1000000)\n",
    "\n",
    "print('applying sine to the entire array ...')\n",
    "z = np.sin(z)"
   ]
  },
  {
   "cell_type": "code",
   "execution_count": 86,
   "metadata": {},
   "outputs": [
    {
     "name": "stdout",
     "output_type": "stream",
     "text": [
      "applying sine to the entire array ...\n",
      "Wall time: 1.4 s\n"
     ]
    }
   ],
   "source": [
    "%%time\n",
    "n = len(z)\n",
    "y = np.empty(n)\n",
    "\n",
    "print('applying sine to the entire array ...')\n",
    "for i in range(n):\n",
    "    y[i] = np.sin(z[i])"
   ]
  },
  {
   "cell_type": "code",
   "execution_count": 92,
   "metadata": {},
   "outputs": [
    {
     "name": "stdout",
     "output_type": "stream",
     "text": [
      "[-1.00380191  0.27360037  0.93122245  2.14523155]\n",
      "[0 1 1 1]\n"
     ]
    }
   ],
   "source": [
    "x = np.random.randn(4)\n",
    "print(x)\n",
    "\n",
    "x_1 = np.where(x > 0, 1, 0)\n",
    "print(x_1)"
   ]
  },
  {
   "cell_type": "code",
   "execution_count": 94,
   "metadata": {},
   "outputs": [
    {
     "name": "stdout",
     "output_type": "stream",
     "text": [
      "given function cannot be vectorized\n"
     ]
    }
   ],
   "source": [
    "def myFunction(x):\n",
    "    return 1 if x > 0 else 0\n",
    "\n",
    "try:\n",
    "    myFunction(x)\n",
    "except(ValueError):\n",
    "    print('given function cannot be vectorized')"
   ]
  },
  {
   "cell_type": "code",
   "execution_count": 95,
   "metadata": {},
   "outputs": [
    {
     "name": "stdout",
     "output_type": "stream",
     "text": [
      "[0 1 1 1]\n"
     ]
    }
   ],
   "source": [
    "# Vectorizing a function\n",
    "newFunction = np.vectorize(myFunction)\n",
    "\n",
    "x_1 = newFunction(x)\n",
    "print(x_1)"
   ]
  },
  {
   "cell_type": "markdown",
   "metadata": {},
   "source": [
    "### Comparisons"
   ]
  },
  {
   "cell_type": "code",
   "execution_count": 101,
   "metadata": {},
   "outputs": [],
   "source": [
    "a = np.array([2, 3])\n",
    "b = np.array([2, 3])"
   ]
  },
  {
   "cell_type": "code",
   "execution_count": 105,
   "metadata": {},
   "outputs": [
    {
     "name": "stdout",
     "output_type": "stream",
     "text": [
      "[False  True]\n",
      "[False  True]\n",
      "[ True False]\n"
     ]
    }
   ],
   "source": [
    "print(a == b)\n",
    "\n",
    "a[0] = 1\n",
    "print(a == b)\n",
    "print(a != b)"
   ]
  },
  {
   "cell_type": "code",
   "execution_count": 110,
   "metadata": {},
   "outputs": [
    {
     "name": "stdout",
     "output_type": "stream",
     "text": [
      "[ 0.   2.5  5.   7.5 10. ]\n",
      "[ 5.   7.5 10. ]\n",
      "[False False  True  True  True]\n"
     ]
    }
   ],
   "source": [
    "z = np.linspace(0, 10, 5)\n",
    "\n",
    "print(z)\n",
    "print(z[z > 3])\n",
    "\n",
    "b = z > 3\n",
    "print(b)"
   ]
  },
  {
   "cell_type": "markdown",
   "metadata": {},
   "source": [
    "### Subpackages"
   ]
  },
  {
   "cell_type": "code",
   "execution_count": 111,
   "metadata": {},
   "outputs": [
    {
     "data": {
      "text/plain": [
       "5.061"
      ]
     },
     "execution_count": 111,
     "metadata": {},
     "output_type": "execute_result"
    }
   ],
   "source": [
    "z = np.random.randn(10000)  # Generate standard normals\n",
    "y = np.random.binomial(10, 0.5, size=1000)    # 1,000 draws from Bin(10, 0.5)\n",
    "y.mean()"
   ]
  },
  {
   "cell_type": "code",
   "execution_count": 112,
   "metadata": {},
   "outputs": [
    {
     "data": {
      "text/plain": [
       "-2.0000000000000004"
      ]
     },
     "execution_count": 112,
     "metadata": {},
     "output_type": "execute_result"
    }
   ],
   "source": [
    "A = np.array([[1, 2], [3, 4]])\n",
    "\n",
    "np.linalg.det(A)           # Compute the determinant"
   ]
  },
  {
   "cell_type": "code",
   "execution_count": 113,
   "metadata": {},
   "outputs": [
    {
     "data": {
      "text/plain": [
       "array([[-2. ,  1. ],\n",
       "       [ 1.5, -0.5]])"
      ]
     },
     "execution_count": 113,
     "metadata": {},
     "output_type": "execute_result"
    }
   ],
   "source": [
    "np.linalg.inv(A)           # Compute the inverse"
   ]
  }
 ],
 "metadata": {
  "kernelspec": {
   "display_name": "Python 3",
   "language": "python",
   "name": "python3"
  },
  "language_info": {
   "codemirror_mode": {
    "name": "ipython",
    "version": 3
   },
   "file_extension": ".py",
   "mimetype": "text/x-python",
   "name": "python",
   "nbconvert_exporter": "python",
   "pygments_lexer": "ipython3",
   "version": "3.7.6"
  }
 },
 "nbformat": 4,
 "nbformat_minor": 4
}
