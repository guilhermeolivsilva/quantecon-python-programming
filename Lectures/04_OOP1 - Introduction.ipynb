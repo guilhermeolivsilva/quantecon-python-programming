{
 "cells": [
  {
   "cell_type": "markdown",
   "metadata": {},
   "source": [
    "# OOP I: Introduction to Object Oriented Programming"
   ]
  },
  {
   "cell_type": "markdown",
   "metadata": {},
   "source": [
    "## Identity"
   ]
  },
  {
   "cell_type": "code",
   "execution_count": 10,
   "metadata": {},
   "outputs": [
    {
     "name": "stdout",
     "output_type": "stream",
     "text": [
      "id(x): 1380723350512\n",
      "id(y): 1380722790672\n"
     ]
    },
    {
     "data": {
      "text/plain": [
       "\u001b[1;31mSignature:\u001b[0m \u001b[0mid\u001b[0m\u001b[1;33m(\u001b[0m\u001b[0mobj\u001b[0m\u001b[1;33m,\u001b[0m \u001b[1;33m/\u001b[0m\u001b[1;33m)\u001b[0m\u001b[1;33m\u001b[0m\u001b[1;33m\u001b[0m\u001b[0m\n",
       "\u001b[1;31mDocstring:\u001b[0m\n",
       "Return the identity of an object.\n",
       "\n",
       "This is guaranteed to be unique among simultaneously existing objects.\n",
       "(CPython uses the object's memory address.)\n",
       "\u001b[1;31mType:\u001b[0m      builtin_function_or_method\n"
      ]
     },
     "metadata": {},
     "output_type": "display_data"
    }
   ],
   "source": [
    "x = 1.1\n",
    "y = 1.1\n",
    "\n",
    "print(f'id(x): {id(x)}')\n",
    "print(f'id(y): {id(y)}')\n",
    "\n",
    "id?"
   ]
  },
  {
   "cell_type": "markdown",
   "metadata": {},
   "source": [
    "## Object Content: Data and Attributes"
   ]
  },
  {
   "cell_type": "code",
   "execution_count": 18,
   "metadata": {},
   "outputs": [
    {
     "name": "stdout",
     "output_type": "stream",
     "text": [
      "x: 42\n",
      "x.imag: 0\n",
      "x.__class__: <class 'int'>\n",
      "\n",
      "y: (1+5j)\n",
      "y.real: 1.0\n",
      "y.imag: 5.0\n",
      "y.__class__: <class 'complex'>\n"
     ]
    }
   ],
   "source": [
    "x = 42\n",
    "print(f'x: {x}')\n",
    "print(f'x.imag: {x.imag}')\n",
    "print(f'x.__class__: {x.__class__}')\n",
    "\n",
    "y = complex(1, 5)\n",
    "print(f'\\ny: {y}')\n",
    "print(f'y.real: {y.real}')\n",
    "print(f'y.imag: {y.imag}')\n",
    "print(f'y.__class__: {y.__class__}')"
   ]
  },
  {
   "cell_type": "markdown",
   "metadata": {},
   "source": [
    "## Methods"
   ]
  },
  {
   "cell_type": "code",
   "execution_count": 27,
   "metadata": {},
   "outputs": [
    {
     "name": "stdout",
     "output_type": "stream",
     "text": [
      "['foo', 'bar']\n",
      "True\n",
      "False\n",
      "['test', 'bar']\n",
      "\n",
      "x.__doc__:\n",
      "Built-in mutable sequence.\n",
      "\n",
      "If no argument is given, the constructor creates a new empty list.\n",
      "The argument must be an iterable if specified.\n",
      "\n",
      "x.__dir__:\n",
      "<built-in method __dir__ of list object at 0x00000141798C6748>\n"
     ]
    }
   ],
   "source": [
    "x = ['foo', 'bar']\n",
    "\n",
    "print(x)\n",
    "print(callable(x.append))\n",
    "print(callable(x.__doc__))\n",
    "x.__setitem__(0, 'test')\n",
    "print(x)\n",
    "\n",
    "print(f'\\nx.__doc__:\\n{x.__doc__}')\n",
    "print(f'\\nx.__dir__:\\n{x.__dir__}')"
   ]
  }
 ],
 "metadata": {
  "kernelspec": {
   "display_name": "Python 3",
   "language": "python",
   "name": "python3"
  },
  "language_info": {
   "codemirror_mode": {
    "name": "ipython",
    "version": 3
   },
   "file_extension": ".py",
   "mimetype": "text/x-python",
   "name": "python",
   "nbconvert_exporter": "python",
   "pygments_lexer": "ipython3",
   "version": "3.7.6"
  }
 },
 "nbformat": 4,
 "nbformat_minor": 4
}
